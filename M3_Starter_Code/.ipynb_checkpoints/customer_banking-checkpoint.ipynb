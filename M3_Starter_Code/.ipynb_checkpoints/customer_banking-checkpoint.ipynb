{
 "cells": [
  {
   "cell_type": "code",
   "execution_count": 1,
   "id": "406edafe-ff3a-4db5-a3f4-5881c1be541f",
   "metadata": {},
   "outputs": [
    {
     "name": "stdin",
     "output_type": "stream",
     "text": [
      "What is your savings balance? :  1000\n",
      "What is your savings interest rate? :  .10\n",
      "How many months to determine the savings interest? :  3\n"
     ]
    },
    {
     "name": "stdout",
     "output_type": "stream",
     "text": [
      "Your updated savings account balance with interest earned is $ 1000.25\n"
     ]
    },
    {
     "name": "stdin",
     "output_type": "stream",
     "text": [
      "What is your savings balance? :  500\n",
      "What is your cd interest rate? :  .2\n",
      "How many months to determine the cd interest? :  5\n"
     ]
    },
    {
     "name": "stdout",
     "output_type": "stream",
     "text": [
      "Your updated cd account balance with interest earned is $ 500.4166666666667\n"
     ]
    }
   ],
   "source": [
    "# Import the create_cd_account and create_savings_account functions\n",
    "from cd_account import create_cd_account \n",
    "from savings_account import create_savings_account\n",
    "\n",
    "# Define the main function\n",
    "def main():\n",
    "    \"\"\"This function prompts the user to enter the savings and cd account balance, interest rate,\n",
    "    and the length of months to determine the interest gained.\n",
    "    It displays the interest earned on the savings and CD accounts and updates the balances.\n",
    "    \"\"\"\n",
    "    # Prompt the user to set the savings balance, interest rate, and months for the savings account.\n",
    "    savings_balance=float(input(\"What is your savings balance? : \"))\n",
    "    savings_interest=float(input(\"What is your savings interest rate? : \"))\n",
    "    savings_maturity=float(input(\"How many months to determine the savings interest? : \"))\n",
    "\n",
    "    # Call the create_savings_account function and pass the variables from the user.\n",
    "    updated_savings_balance, interest_earned = create_savings_account(savings_balance, savings_interest, savings_maturity)\n",
    "\n",
    "    # Print out the interest earned and updated savings account balance with interest earned for the given months.\n",
    "    print(\"Your updated savings account balance with interest earned is $\", updated_savings_balance)\n",
    "\n",
    "    # Prompt the user to set the CD balance, interest rate, and months for the CD account.\n",
    "    cd_balance=float(input(\"What is your savings balance? : \"))\n",
    "    cd_interest=float(input(\"What is your cd interest rate? : \"))\n",
    "    cd_maturity=float(input(\"How many months to determine the cd interest? : \"))\n",
    "\n",
    "    # Call the create_cd_account function and pass the variables from the user.\n",
    "    updated_cd_balance, interest_earned = create_cd_account(cd_balance, cd_interest, cd_maturity)\n",
    "\n",
    "    # Print out the interest earned and updated CD account balance with interest earned for the given months.\n",
    "    print(\"Your updated cd account balance with interest earned is $\", updated_cd_balance)\n",
    "\n",
    "if __name__ == \"__main__\":\n",
    "    # Call the main function.\n",
    "    main()"
   ]
  },
  {
   "cell_type": "code",
   "execution_count": null,
   "id": "03f4ea4a-7261-4f41-8205-d53a53306ae3",
   "metadata": {},
   "outputs": [],
   "source": []
  },
  {
   "cell_type": "code",
   "execution_count": null,
   "id": "0b9b817c-84bd-468b-8fad-c4ca84be96d2",
   "metadata": {},
   "outputs": [],
   "source": []
  }
 ],
 "metadata": {
  "kernelspec": {
   "display_name": "Python 3 (ipykernel)",
   "language": "python",
   "name": "python3"
  },
  "language_info": {
   "codemirror_mode": {
    "name": "ipython",
    "version": 3
   },
   "file_extension": ".py",
   "mimetype": "text/x-python",
   "name": "python",
   "nbconvert_exporter": "python",
   "pygments_lexer": "ipython3",
   "version": "3.12.4"
  }
 },
 "nbformat": 4,
 "nbformat_minor": 5
}
